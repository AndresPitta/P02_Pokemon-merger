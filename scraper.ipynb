{
 "cells": [
  {
   "cell_type": "code",
   "execution_count": 1,
   "metadata": {},
   "outputs": [],
   "source": [
    "import pandas as pd\n",
    "import numpy as np\n",
    "import time\n",
    "import requests\n",
    "import pickle\n",
    "\n",
    "from urllib.request import urlopen\n",
    "from bs4 import BeautifulSoup\n",
    "from collections import defaultdict\n",
    "\n",
    "import matplotlib.pyplot as plt\n"
   ]
  },
  {
   "cell_type": "code",
   "execution_count": 8,
   "metadata": {},
   "outputs": [],
   "source": [
    "pokemon_description = defaultdict(str)\n",
    "n_pokemon = 890\n",
    "save_img = False"
   ]
  },
  {
   "cell_type": "code",
   "execution_count": 9,
   "metadata": {},
   "outputs": [],
   "source": [
    "pokemon_url = \"https://www.pokemon.com/us/pokedex/bulbasaur\"\n",
    "pokemon_domain = \"https://www.pokemon.com\"\n",
    "\n",
    "pokemon_array = np.zeros((n_pokemon, 475, 475, 4))\n",
    "\n",
    "for i in range(n_pokemon):\n",
    "    start = time.time()\n",
    "    \n",
    "    pokedex_request = requests.get(pokemon_url)\n",
    "    pokedex_bs = BeautifulSoup(pokedex_request.text)\n",
    "\n",
    "    try:\n",
    "        pokemon_number = pokedex_bs.find(\"div\", {\"class\": \"pokedex-pokemon-pagination-title\"})\n",
    "    except:\n",
    "        raise Exception(\"Text not found\")\n",
    "     \n",
    "    \n",
    "    name_number = pokemon_number.text.split()\n",
    "    file_name = name_number[0] + \"_\" + name_number[1][1:]\n",
    "    # Finding the image\n",
    "    \n",
    "    try:\n",
    "        pokemon_imgs = pokedex_bs.find(\"img\", {\"class\": \"active\"})\n",
    "    except:\n",
    "        raise Exception(\"Image not found\")\n",
    "    \n",
    "    name = pokemon_imgs['alt']\n",
    "    source = pokemon_imgs['src']\n",
    "    \n",
    "    img_source = urlopen(source)\n",
    "    img = plt.imread(img_source)\n",
    "    \n",
    "    if save_img:\n",
    "        img_path = \"imgs/\" + file_name + \".png\"\n",
    "        plt.imsave(img_path, img)\n",
    "    else:\n",
    "        pokemon_array[i,:,:,:] = img\n",
    "    \n",
    "    # Finding the description\n",
    "    \n",
    "    try:\n",
    "        pokemon_txt = pokedex_bs.find(\"p\", {\"class\": \"active\"})\n",
    "    except:\n",
    "        raise Exception(\"Text not found\")\n",
    "        \n",
    "    pokemon_description[file_name] = pokemon_txt.text\n",
    "    \n",
    "    # Finding next\n",
    "    \n",
    "    try:\n",
    "        pokemon_next = pokedex_bs.find(\"a\", {\"class\": \"next\"})\n",
    "    except:\n",
    "        raise Exception(\"Next not found\")\n",
    "    \n",
    "    pokemon_url = pokemon_domain + pokemon_next['href']\n",
    "    done = i + 1 / n_pokemon\n",
    "    \n",
    "    time.sleep(.4)\n",
    "\n",
    "filehandler = open(\"data/pokemon_imgs.pkl\",\"wb\")\n",
    "pickle.dump(pokemon_array, filehandler, protocol = 4)\n",
    "filehandler.close()"
   ]
  },
  {
   "cell_type": "code",
   "execution_count": 10,
   "metadata": {},
   "outputs": [],
   "source": [
    "pokemon_df = pd.DataFrame(pokemon_description, index = ['description'])\\\n",
    "               .T\\\n",
    "               .reset_index()\\\n",
    "               .rename(columns = {'index': 'pokemon'})\n",
    "pokemon_df['number_nationaldex'] = pokemon_df['pokemon'].str.split(\"_\", expand=True)[1]\n",
    "pokemon_df['pokemon'] = pokemon_df['pokemon'].str.split(\"_\", expand=True)[0]\n",
    "\n",
    "pokemon_df.to_csv('data/pokemon_descriptions.csv')"
   ]
  }
 ],
 "metadata": {
  "kernelspec": {
   "display_name": "Python 3",
   "language": "python",
   "name": "python3"
  },
  "language_info": {
   "codemirror_mode": {
    "name": "ipython",
    "version": 3
   },
   "file_extension": ".py",
   "mimetype": "text/x-python",
   "name": "python",
   "nbconvert_exporter": "python",
   "pygments_lexer": "ipython3",
   "version": "3.7.6"
  }
 },
 "nbformat": 4,
 "nbformat_minor": 4
}
